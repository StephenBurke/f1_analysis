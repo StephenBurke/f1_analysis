{
 "cells": [
  {
   "cell_type": "code",
   "execution_count": 3,
   "metadata": {},
   "outputs": [],
   "source": [
    "import numpy as np\n",
    "import pandas as pd\n",
    "import matplotlib.pyplot as plt"
   ]
  },
  {
   "cell_type": "code",
   "execution_count": 4,
   "metadata": {},
   "outputs": [],
   "source": [
    "lap_times_df = pd.DataFrame(data=pd.read_csv('data/lap_times.csv'))"
   ]
  },
  {
   "cell_type": "code",
   "execution_count": 5,
   "metadata": {},
   "outputs": [
    {
     "data": {
      "text/html": [
       "<div>\n",
       "<style scoped>\n",
       "    .dataframe tbody tr th:only-of-type {\n",
       "        vertical-align: middle;\n",
       "    }\n",
       "\n",
       "    .dataframe tbody tr th {\n",
       "        vertical-align: top;\n",
       "    }\n",
       "\n",
       "    .dataframe thead th {\n",
       "        text-align: right;\n",
       "    }\n",
       "</style>\n",
       "<table border=\"1\" class=\"dataframe\">\n",
       "  <thead>\n",
       "    <tr style=\"text-align: right;\">\n",
       "      <th></th>\n",
       "      <th>raceId</th>\n",
       "      <th>driverId</th>\n",
       "      <th>lap</th>\n",
       "      <th>position</th>\n",
       "      <th>time</th>\n",
       "      <th>milliseconds</th>\n",
       "    </tr>\n",
       "  </thead>\n",
       "  <tbody>\n",
       "    <tr>\n",
       "      <th>538116</th>\n",
       "      <td>1096</td>\n",
       "      <td>822</td>\n",
       "      <td>53</td>\n",
       "      <td>16</td>\n",
       "      <td>1:32.998</td>\n",
       "      <td>92998</td>\n",
       "    </tr>\n",
       "    <tr>\n",
       "      <th>538117</th>\n",
       "      <td>1096</td>\n",
       "      <td>822</td>\n",
       "      <td>54</td>\n",
       "      <td>16</td>\n",
       "      <td>1:32.995</td>\n",
       "      <td>92995</td>\n",
       "    </tr>\n",
       "    <tr>\n",
       "      <th>538118</th>\n",
       "      <td>1096</td>\n",
       "      <td>822</td>\n",
       "      <td>55</td>\n",
       "      <td>16</td>\n",
       "      <td>1:31.236</td>\n",
       "      <td>91236</td>\n",
       "    </tr>\n",
       "    <tr>\n",
       "      <th>538119</th>\n",
       "      <td>1096</td>\n",
       "      <td>822</td>\n",
       "      <td>56</td>\n",
       "      <td>15</td>\n",
       "      <td>1:30.566</td>\n",
       "      <td>90566</td>\n",
       "    </tr>\n",
       "    <tr>\n",
       "      <th>538120</th>\n",
       "      <td>1096</td>\n",
       "      <td>822</td>\n",
       "      <td>57</td>\n",
       "      <td>15</td>\n",
       "      <td>1:30.743</td>\n",
       "      <td>90743</td>\n",
       "    </tr>\n",
       "  </tbody>\n",
       "</table>\n",
       "</div>"
      ],
      "text/plain": [
       "        raceId  driverId  lap  position      time  milliseconds\n",
       "538116    1096       822   53        16  1:32.998         92998\n",
       "538117    1096       822   54        16  1:32.995         92995\n",
       "538118    1096       822   55        16  1:31.236         91236\n",
       "538119    1096       822   56        15  1:30.566         90566\n",
       "538120    1096       822   57        15  1:30.743         90743"
      ]
     },
     "execution_count": 5,
     "metadata": {},
     "output_type": "execute_result"
    }
   ],
   "source": [
    "lap_times_df.tail()"
   ]
  },
  {
   "cell_type": "code",
   "execution_count": 6,
   "metadata": {},
   "outputs": [],
   "source": [
    "mexico_lap_times_df = lap_times_df.loc[lap_times_df['raceId'] == 1094]"
   ]
  },
  {
   "cell_type": "code",
   "execution_count": 7,
   "metadata": {},
   "outputs": [],
   "source": [
    "drivers = mexico_lap_times_df['driverId'].unique()"
   ]
  },
  {
   "cell_type": "code",
   "execution_count": 26,
   "metadata": {},
   "outputs": [
    {
     "name": "stdout",
     "output_type": "stream",
     "text": [
      "[830   1 815 847 832 844   4 822 839 846 852 855 817  20 840 842 854 825\n",
      " 848 849]\n",
      "<PandasArray>\n",
      "['1:25.253', '1:23.247', '1:23.079', '1:23.566', '1:23.226', '1:23.294',\n",
      " '1:23.115', '1:23.292', '1:23.246', '1:23.257', '1:23.164', '1:23.076',\n",
      " '1:23.109', '1:23.056', '1:22.971', '1:23.076', '1:23.161', '1:23.288',\n",
      " '1:23.432', '1:23.674', '1:23.295', '1:23.597', '1:23.655', '1:23.861',\n",
      " '1:26.845', '1:41.339', '1:22.494', '1:22.540', '1:22.472', '1:22.289',\n",
      " '1:22.365', '1:22.166', '1:22.316', '1:22.188', '1:22.054', '1:22.046',\n",
      " '1:22.329', '1:22.685', '1:22.382', '1:22.466', '1:22.436', '1:22.465',\n",
      " '1:22.405', '1:22.285', '1:22.426', '1:22.568', '1:22.468', '1:22.733',\n",
      " '1:22.544', '1:22.576', '1:22.308', '1:22.497', '1:22.502', '1:22.515',\n",
      " '1:22.786', '1:22.105', '1:22.425', '1:22.313', '1:22.428', '1:22.698',\n",
      " '1:22.400', '1:22.510', '1:22.720', '1:22.476', '1:29.023', '1:32.908',\n",
      " '1:22.302', '1:22.549', '1:22.794', '1:22.681', '1:22.917']\n",
      "Length: 71, dtype: object\n",
      "<bound method IndexOpsMixin.tolist of 534370    1:25.253\n",
      "534371    1:23.247\n",
      "534372    1:23.079\n",
      "534373    1:23.566\n",
      "534374    1:23.226\n",
      "            ...   \n",
      "534436    1:22.302\n",
      "534437    1:22.549\n",
      "534438    1:22.794\n",
      "534439    1:22.681\n",
      "534440    1:22.917\n",
      "Name: time, Length: 71, dtype: object>\n"
     ]
    }
   ],
   "source": [
    "print(drivers)\n",
    "#for driver in drivers:\n",
    "#    if (driver == '830' and mexico_lap_times_df['lap'] == '57'):\n",
    "#        print('here ', mexico_lap_times_df['position'])\n",
    "\n",
    "#def get_lap_times(driver):\n",
    "#    driver_lap_times = mexico_lap_times_df['driverId']\n",
    "#    return driver_lap_times\n",
    "\n",
    "driver_0_lap_times = mexico_lap_times_df.loc[mexico_lap_times_df['driverId'] == 830, 'time'] \n",
    "\n",
    "print(driver_0_lap_times.array)\n",
    "print(driver_0_lap_times.tolist)"
   ]
  },
  {
   "cell_type": "code",
   "execution_count": 30,
   "metadata": {},
   "outputs": [
    {
     "ename": "UFuncTypeError",
     "evalue": "ufunc 'add' did not contain a loop with signature matching types (dtype('<U8'), dtype('<U8')) -> None",
     "output_type": "error",
     "traceback": [
      "\u001b[1;31m---------------------------------------------------------------------------\u001b[0m",
      "\u001b[1;31mUFuncTypeError\u001b[0m                            Traceback (most recent call last)",
      "Cell \u001b[1;32mIn[30], line 7\u001b[0m\n\u001b[0;32m      2\u001b[0m my_dict \u001b[39m=\u001b[39m {\u001b[39m'\u001b[39m\u001b[39mABC\u001b[39m\u001b[39m'\u001b[39m: my_list}\n\u001b[0;32m      6\u001b[0m fig, ax \u001b[39m=\u001b[39m plt\u001b[39m.\u001b[39msubplots()\n\u001b[1;32m----> 7\u001b[0m ax\u001b[39m.\u001b[39;49mboxplot(my_dict\u001b[39m.\u001b[39;49mvalues())\n\u001b[0;32m      8\u001b[0m ax\u001b[39m.\u001b[39mset_xticklabels(my_dict\u001b[39m.\u001b[39mkeys())\n",
      "File \u001b[1;32mc:\\Users\\burke\\venv_python\\23_f1_analysis\\Lib\\site-packages\\matplotlib\\__init__.py:1433\u001b[0m, in \u001b[0;36m_preprocess_data.<locals>.inner\u001b[1;34m(ax, data, *args, **kwargs)\u001b[0m\n\u001b[0;32m   1430\u001b[0m \u001b[39m@functools\u001b[39m\u001b[39m.\u001b[39mwraps(func)\n\u001b[0;32m   1431\u001b[0m \u001b[39mdef\u001b[39;00m \u001b[39minner\u001b[39m(ax, \u001b[39m*\u001b[39margs, data\u001b[39m=\u001b[39m\u001b[39mNone\u001b[39;00m, \u001b[39m*\u001b[39m\u001b[39m*\u001b[39mkwargs):\n\u001b[0;32m   1432\u001b[0m     \u001b[39mif\u001b[39;00m data \u001b[39mis\u001b[39;00m \u001b[39mNone\u001b[39;00m:\n\u001b[1;32m-> 1433\u001b[0m         \u001b[39mreturn\u001b[39;00m func(ax, \u001b[39m*\u001b[39;49m\u001b[39mmap\u001b[39;49m(sanitize_sequence, args), \u001b[39m*\u001b[39;49m\u001b[39m*\u001b[39;49mkwargs)\n\u001b[0;32m   1435\u001b[0m     bound \u001b[39m=\u001b[39m new_sig\u001b[39m.\u001b[39mbind(ax, \u001b[39m*\u001b[39margs, \u001b[39m*\u001b[39m\u001b[39m*\u001b[39mkwargs)\n\u001b[0;32m   1436\u001b[0m     auto_label \u001b[39m=\u001b[39m (bound\u001b[39m.\u001b[39marguments\u001b[39m.\u001b[39mget(label_namer)\n\u001b[0;32m   1437\u001b[0m                   \u001b[39mor\u001b[39;00m bound\u001b[39m.\u001b[39mkwargs\u001b[39m.\u001b[39mget(label_namer))\n",
      "File \u001b[1;32mc:\\Users\\burke\\venv_python\\23_f1_analysis\\Lib\\site-packages\\matplotlib\\axes\\_axes.py:3856\u001b[0m, in \u001b[0;36mAxes.boxplot\u001b[1;34m(self, x, notch, sym, vert, whis, positions, widths, patch_artist, bootstrap, usermedians, conf_intervals, meanline, showmeans, showcaps, showbox, showfliers, boxprops, labels, flierprops, medianprops, meanprops, capprops, whiskerprops, manage_ticks, autorange, zorder, capwidths)\u001b[0m\n\u001b[0;32m   3853\u001b[0m \u001b[39mif\u001b[39;00m bootstrap \u001b[39mis\u001b[39;00m \u001b[39mNone\u001b[39;00m:\n\u001b[0;32m   3854\u001b[0m     bootstrap \u001b[39m=\u001b[39m mpl\u001b[39m.\u001b[39mrcParams[\u001b[39m'\u001b[39m\u001b[39mboxplot.bootstrap\u001b[39m\u001b[39m'\u001b[39m]\n\u001b[1;32m-> 3856\u001b[0m bxpstats \u001b[39m=\u001b[39m cbook\u001b[39m.\u001b[39;49mboxplot_stats(x, whis\u001b[39m=\u001b[39;49mwhis, bootstrap\u001b[39m=\u001b[39;49mbootstrap,\n\u001b[0;32m   3857\u001b[0m                                labels\u001b[39m=\u001b[39;49mlabels, autorange\u001b[39m=\u001b[39;49mautorange)\n\u001b[0;32m   3858\u001b[0m \u001b[39mif\u001b[39;00m notch \u001b[39mis\u001b[39;00m \u001b[39mNone\u001b[39;00m:\n\u001b[0;32m   3859\u001b[0m     notch \u001b[39m=\u001b[39m mpl\u001b[39m.\u001b[39mrcParams[\u001b[39m'\u001b[39m\u001b[39mboxplot.notch\u001b[39m\u001b[39m'\u001b[39m]\n",
      "File \u001b[1;32mc:\\Users\\burke\\venv_python\\23_f1_analysis\\Lib\\site-packages\\matplotlib\\cbook\\__init__.py:1266\u001b[0m, in \u001b[0;36mboxplot_stats\u001b[1;34m(X, whis, bootstrap, labels, autorange)\u001b[0m\n\u001b[0;32m   1263\u001b[0m x \u001b[39m=\u001b[39m np\u001b[39m.\u001b[39masarray(x)\n\u001b[0;32m   1265\u001b[0m \u001b[39m# arithmetic mean\u001b[39;00m\n\u001b[1;32m-> 1266\u001b[0m stats[\u001b[39m'\u001b[39m\u001b[39mmean\u001b[39m\u001b[39m'\u001b[39m] \u001b[39m=\u001b[39m np\u001b[39m.\u001b[39;49mmean(x)\n\u001b[0;32m   1268\u001b[0m \u001b[39m# medians and quartiles\u001b[39;00m\n\u001b[0;32m   1269\u001b[0m q1, med, q3 \u001b[39m=\u001b[39m np\u001b[39m.\u001b[39mpercentile(x, [\u001b[39m25\u001b[39m, \u001b[39m50\u001b[39m, \u001b[39m75\u001b[39m])\n",
      "File \u001b[1;32m<__array_function__ internals>:200\u001b[0m, in \u001b[0;36mmean\u001b[1;34m(*args, **kwargs)\u001b[0m\n",
      "File \u001b[1;32mc:\\Users\\burke\\venv_python\\23_f1_analysis\\Lib\\site-packages\\numpy\\core\\fromnumeric.py:3464\u001b[0m, in \u001b[0;36mmean\u001b[1;34m(a, axis, dtype, out, keepdims, where)\u001b[0m\n\u001b[0;32m   3461\u001b[0m     \u001b[39melse\u001b[39;00m:\n\u001b[0;32m   3462\u001b[0m         \u001b[39mreturn\u001b[39;00m mean(axis\u001b[39m=\u001b[39maxis, dtype\u001b[39m=\u001b[39mdtype, out\u001b[39m=\u001b[39mout, \u001b[39m*\u001b[39m\u001b[39m*\u001b[39mkwargs)\n\u001b[1;32m-> 3464\u001b[0m \u001b[39mreturn\u001b[39;00m _methods\u001b[39m.\u001b[39;49m_mean(a, axis\u001b[39m=\u001b[39;49maxis, dtype\u001b[39m=\u001b[39;49mdtype,\n\u001b[0;32m   3465\u001b[0m                       out\u001b[39m=\u001b[39;49mout, \u001b[39m*\u001b[39;49m\u001b[39m*\u001b[39;49mkwargs)\n",
      "File \u001b[1;32mc:\\Users\\burke\\venv_python\\23_f1_analysis\\Lib\\site-packages\\numpy\\core\\_methods.py:181\u001b[0m, in \u001b[0;36m_mean\u001b[1;34m(a, axis, dtype, out, keepdims, where)\u001b[0m\n\u001b[0;32m    178\u001b[0m         dtype \u001b[39m=\u001b[39m mu\u001b[39m.\u001b[39mdtype(\u001b[39m'\u001b[39m\u001b[39mf4\u001b[39m\u001b[39m'\u001b[39m)\n\u001b[0;32m    179\u001b[0m         is_float16_result \u001b[39m=\u001b[39m \u001b[39mTrue\u001b[39;00m\n\u001b[1;32m--> 181\u001b[0m ret \u001b[39m=\u001b[39m umr_sum(arr, axis, dtype, out, keepdims, where\u001b[39m=\u001b[39mwhere)\n\u001b[0;32m    182\u001b[0m \u001b[39mif\u001b[39;00m \u001b[39misinstance\u001b[39m(ret, mu\u001b[39m.\u001b[39mndarray):\n\u001b[0;32m    183\u001b[0m     \u001b[39mwith\u001b[39;00m _no_nep50_warning():\n",
      "\u001b[1;31mUFuncTypeError\u001b[0m: ufunc 'add' did not contain a loop with signature matching types (dtype('<U8'), dtype('<U8')) -> None"
     ]
    },
    {
     "data": {
      "image/png": "[encoded data removed]",
      "text/plain": [
       "<Figure size 640x480 with 1 Axes>"
      ]
     },
     "metadata": {},
     "output_type": "display_data"
    }
   ],
   "source": [
    "\n",
    "\n",
    "my_list = driver_0_lap_times.tolist()\n",
    "my_dict = {'ABC': my_list}\n",
    "\n",
    "\n",
    "\n",
    "fig, ax = plt.subplots()\n",
    "ax.boxplot(my_dict.values())\n",
    "ax.set_xticklabels(my_dict.keys())\n",
    "\n"
   ]
  },
  {
   "cell_type": "code",
   "execution_count": 36,
   "metadata": {},
   "outputs": [
    {
     "name": "stdout",
     "output_type": "stream",
     "text": [
      "['1:25.253', '1:23.247', '1:23.079', '1:23.566', '1:23.226', '1:23.294', '1:23.115', '1:23.292', '1:23.246', '1:23.257', '1:23.164', '1:23.076', '1:23.109', '1:23.056', '1:22.971', '1:23.076', '1:23.161', '1:23.288', '1:23.432', '1:23.674', '1:23.295', '1:23.597', '1:23.655', '1:23.861', '1:26.845', '1:41.339', '1:22.494', '1:22.540', '1:22.472', '1:22.289', '1:22.365', '1:22.166', '1:22.316', '1:22.188', '1:22.054', '1:22.046', '1:22.329', '1:22.685', '1:22.382', '1:22.466', '1:22.436', '1:22.465', '1:22.405', '1:22.285', '1:22.426', '1:22.568', '1:22.468', '1:22.733', '1:22.544', '1:22.576', '1:22.308', '1:22.497', '1:22.502', '1:22.515', '1:22.786', '1:22.105', '1:22.425', '1:22.313', '1:22.428', '1:22.698', '1:22.400', '1:22.510', '1:22.720', '1:22.476', '1:29.023', '1:32.908', '1:22.302', '1:22.549', '1:22.794', '1:22.681', '1:22.917']\n",
      "['2', 3, 4, 5, 6, 6, 7]\n"
     ]
    }
   ],
   "source": [
    "\n",
    "# Use pandas.to_datetime() to convert string to \"yyyymmdd\" format\n",
    "# df[\"InsertedDate\"] = pd.to_datetime(df[\"InsertedDate\"], format='%y%m%d')\n",
    "\n",
    "my_list = driver_0_lap_times.tolist()\n",
    "print(my_list)\n",
    "\n",
    "list_2 = ['2', 3, 4, 5, 6, 6, 7]\n",
    "\n",
    "print(list_2)"
   ]
  }
 ],
 "metadata": {
  "kernelspec": {
   "display_name": "23_f1_analysis",
   "language": "python",
   "name": "python3"
  },
  "language_info": {
   "codemirror_mode": {
    "name": "ipython",
    "version": 3
   },
   "file_extension": ".py",
   "mimetype": "text/x-python",
   "name": "python",
   "nbconvert_exporter": "python",
   "pygments_lexer": "ipython3",
   "version": "3.11.1"
  },
  "orig_nbformat": 4,
  "vscode": {
   "interpreter": {
    "hash": "58968e946243ce1e7ce5fcdc56ae7588c1df656fc5939f8f46780341810eb2e4"
   }
  }
 },
 "nbformat": 4,
 "nbformat_minor": 2
}
