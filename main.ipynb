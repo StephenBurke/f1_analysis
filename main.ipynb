{
 "cells": [
  {
   "cell_type": "code",
   "execution_count": 1,
   "metadata": {},
   "outputs": [],
   "source": [
    "import numpy as np\n",
    "import pandas as pd\n",
    "import matplotlib.pyplot as plt\n",
    "from datetime import datetime"
   ]
  },
  {
   "cell_type": "code",
   "execution_count": 2,
   "metadata": {},
   "outputs": [],
   "source": [
    "lap_times_df = pd.DataFrame(data=pd.read_csv('data/lap_times.csv'))"
   ]
  },
  {
   "cell_type": "code",
   "execution_count": 3,
   "metadata": {},
   "outputs": [
    {
     "data": {
      "text/html": [
       "<div>\n",
       "<style scoped>\n",
       "    .dataframe tbody tr th:only-of-type {\n",
       "        vertical-align: middle;\n",
       "    }\n",
       "\n",
       "    .dataframe tbody tr th {\n",
       "        vertical-align: top;\n",
       "    }\n",
       "\n",
       "    .dataframe thead th {\n",
       "        text-align: right;\n",
       "    }\n",
       "</style>\n",
       "<table border=\"1\" class=\"dataframe\">\n",
       "  <thead>\n",
       "    <tr style=\"text-align: right;\">\n",
       "      <th></th>\n",
       "      <th>raceId</th>\n",
       "      <th>driverId</th>\n",
       "      <th>lap</th>\n",
       "      <th>position</th>\n",
       "      <th>time</th>\n",
       "      <th>milliseconds</th>\n",
       "    </tr>\n",
       "  </thead>\n",
       "  <tbody>\n",
       "    <tr>\n",
       "      <th>538116</th>\n",
       "      <td>1096</td>\n",
       "      <td>822</td>\n",
       "      <td>53</td>\n",
       "      <td>16</td>\n",
       "      <td>1:32.998</td>\n",
       "      <td>92998</td>\n",
       "    </tr>\n",
       "    <tr>\n",
       "      <th>538117</th>\n",
       "      <td>1096</td>\n",
       "      <td>822</td>\n",
       "      <td>54</td>\n",
       "      <td>16</td>\n",
       "      <td>1:32.995</td>\n",
       "      <td>92995</td>\n",
       "    </tr>\n",
       "    <tr>\n",
       "      <th>538118</th>\n",
       "      <td>1096</td>\n",
       "      <td>822</td>\n",
       "      <td>55</td>\n",
       "      <td>16</td>\n",
       "      <td>1:31.236</td>\n",
       "      <td>91236</td>\n",
       "    </tr>\n",
       "    <tr>\n",
       "      <th>538119</th>\n",
       "      <td>1096</td>\n",
       "      <td>822</td>\n",
       "      <td>56</td>\n",
       "      <td>15</td>\n",
       "      <td>1:30.566</td>\n",
       "      <td>90566</td>\n",
       "    </tr>\n",
       "    <tr>\n",
       "      <th>538120</th>\n",
       "      <td>1096</td>\n",
       "      <td>822</td>\n",
       "      <td>57</td>\n",
       "      <td>15</td>\n",
       "      <td>1:30.743</td>\n",
       "      <td>90743</td>\n",
       "    </tr>\n",
       "  </tbody>\n",
       "</table>\n",
       "</div>"
      ],
      "text/plain": [
       "        raceId  driverId  lap  position      time  milliseconds\n",
       "538116    1096       822   53        16  1:32.998         92998\n",
       "538117    1096       822   54        16  1:32.995         92995\n",
       "538118    1096       822   55        16  1:31.236         91236\n",
       "538119    1096       822   56        15  1:30.566         90566\n",
       "538120    1096       822   57        15  1:30.743         90743"
      ]
     },
     "execution_count": 3,
     "metadata": {},
     "output_type": "execute_result"
    }
   ],
   "source": [
    "lap_times_df.tail()"
   ]
  },
  {
   "cell_type": "code",
   "execution_count": 4,
   "metadata": {},
   "outputs": [],
   "source": [
    "# specify to 2022 mexico race\n",
    "mexico_lap_times_df = lap_times_df.loc[lap_times_df['raceId'] == 1094]\n",
    "\n",
    "# select driver lap times over the course of the race\n",
    "driver_0_lap_times = mexico_lap_times_df.loc[mexico_lap_times_df['driverId'] == 830, 'milliseconds']\n",
    "\n",
    "# specify unique drivers,\n",
    "# ? is this needed? What are we going to use this for exactly?\n",
    "drivers = mexico_lap_times_df['driverId'].unique()"
   ]
  },
  {
   "cell_type": "code",
   "execution_count": 5,
   "metadata": {},
   "outputs": [
    {
     "data": {
      "text/plain": [
       "[Text(1, 0, 'driver 830')]"
      ]
     },
     "execution_count": 5,
     "metadata": {},
     "output_type": "execute_result"
    },
    {
     "data": {
      "image/png": "[encoded data removed]",
      "text/plain": [
       "<Figure size 640x480 with 1 Axes>"
      ]
     },
     "metadata": {},
     "output_type": "display_data"
    }
   ],
   "source": [
    "my_list = driver_0_lap_times.tolist()\n",
    "my_dict = {'driver 830': my_list}\n",
    "\n",
    "\n",
    "fig, ax = plt.subplots()\n",
    "ax.boxplot(my_dict.values())\n",
    "ax.set_xticklabels(my_dict.keys())\n",
    "\n"
   ]
  }
 ],
 "metadata": {
  "kernelspec": {
   "display_name": "23_f1_analysis",
   "language": "python",
   "name": "python3"
  },
  "language_info": {
   "codemirror_mode": {
    "name": "ipython",
    "version": 3
   },
   "file_extension": ".py",
   "mimetype": "text/x-python",
   "name": "python",
   "nbconvert_exporter": "python",
   "pygments_lexer": "ipython3",
   "version": "3.11.1"
  },
  "orig_nbformat": 4,
  "vscode": {
   "interpreter": {
    "hash": "58968e946243ce1e7ce5fcdc56ae7588c1df656fc5939f8f46780341810eb2e4"
   }
  }
 },
 "nbformat": 4,
 "nbformat_minor": 2
}
